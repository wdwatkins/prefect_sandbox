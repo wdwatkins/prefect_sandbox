{
 "cells": [
  {
   "cell_type": "code",
   "execution_count": 1,
   "metadata": {},
   "outputs": [],
   "source": [
    "from prefect import task, Flow"
   ]
  },
  {
   "cell_type": "code",
   "execution_count": 3,
   "metadata": {},
   "outputs": [],
   "source": [
    "@task\n",
    "def say_hello():\n",
    "    print(\"Hello, world!\")\n",
    "\n",
    "with Flow(\"My First Flow\") as flow:\n",
    "    say_hello()"
   ]
  },
  {
   "cell_type": "code",
   "execution_count": 4,
   "metadata": {},
   "outputs": [
    {
     "name": "stderr",
     "output_type": "stream",
     "text": [
      "[2019-06-18 17:42:31,993] INFO - prefect.FlowRunner | Beginning Flow run for 'My First Flow'\n",
      "[2019-06-18 17:42:31,995] INFO - prefect.FlowRunner | Starting flow run.\n",
      "[2019-06-18 17:42:31,998] INFO - prefect.TaskRunner | Task 'say_hello': Starting task run...\n",
      "[2019-06-18 17:42:32,000] INFO - prefect.TaskRunner | Task 'say_hello': finished task run for task with final state: 'Success'\n",
      "[2019-06-18 17:42:32,001] INFO - prefect.FlowRunner | Flow run SUCCESS: all reference tasks succeeded\n"
     ]
    },
    {
     "name": "stdout",
     "output_type": "stream",
     "text": [
      "Hello, world!\n"
     ]
    },
    {
     "data": {
      "text/plain": [
       "<Success: \"All reference tasks succeeded.\">"
      ]
     },
     "execution_count": 4,
     "metadata": {},
     "output_type": "execute_result"
    }
   ],
   "source": [
    "flow.run()"
   ]
  },
  {
   "cell_type": "code",
   "execution_count": 7,
   "metadata": {},
   "outputs": [
    {
     "name": "stderr",
     "output_type": "stream",
     "text": [
      "[2019-06-18 18:05:31,095] INFO - prefect.FlowRunner | Beginning Flow run for 'My First Flow'\n",
      "[2019-06-18 18:05:31,096] INFO - prefect.FlowRunner | Starting flow run.\n",
      "[2019-06-18 18:05:31,101] INFO - prefect.TaskRunner | Task '3': Starting task run...\n",
      "[2019-06-18 18:05:31,103] INFO - prefect.TaskRunner | Task '3': finished task run for task with final state: 'Success'\n",
      "[2019-06-18 18:05:31,104] INFO - prefect.TaskRunner | Task 'add': Starting task run...\n",
      "[2019-06-18 18:05:31,105] INFO - prefect.TaskRunner | Task 'add': finished task run for task with final state: 'Success'\n",
      "[2019-06-18 18:05:31,106] INFO - prefect.TaskRunner | Task ''David'': Starting task run...\n",
      "[2019-06-18 18:05:31,107] INFO - prefect.TaskRunner | Task ''David'': finished task run for task with final state: 'Success'\n",
      "[2019-06-18 18:05:31,107] INFO - prefect.TaskRunner | Task 'say_hello_person': Starting task run...\n",
      "[2019-06-18 18:05:31,109] INFO - prefect.TaskRunner | Task 'say_hello_person': finished task run for task with final state: 'Success'\n",
      "[2019-06-18 18:05:31,110] INFO - prefect.FlowRunner | Flow run SUCCESS: all reference tasks succeeded\n"
     ]
    },
    {
     "name": "stdout",
     "output_type": "stream",
     "text": [
      "Hello, David!\n"
     ]
    },
    {
     "data": {
      "text/plain": [
       "<Success: \"All reference tasks succeeded.\">"
      ]
     },
     "execution_count": 7,
     "metadata": {},
     "output_type": "execute_result"
    }
   ],
   "source": [
    "@task\n",
    "def add(x, y=1):\n",
    "    return x + y\n",
    "\n",
    "@task\n",
    "def say_hello_person(person: str) -> None:\n",
    "    print(\"Hello, {}!\".format(person))\n",
    "    \n",
    "with Flow(\"My First Flow\") as flow:\n",
    "    say_hello_person('David')\n",
    "    add(3)\n",
    "\n",
    "flow.run()"
   ]
  },
  {
   "cell_type": "code",
   "execution_count": 6,
   "metadata": {},
   "outputs": [],
   "source": [
    "with Flow(\"My first flow!\") as flow:\n",
    "    first_result = add(1, y=2)\n",
    "    second_result = add(x=first_result, y=100)\n",
    "\n"
   ]
  }
 ],
 "metadata": {
  "kernelspec": {
   "display_name": "Python 3",
   "language": "python",
   "name": "python3"
  },
  "language_info": {
   "codemirror_mode": {
    "name": "ipython",
    "version": 3
   },
   "file_extension": ".py",
   "mimetype": "text/x-python",
   "name": "python",
   "nbconvert_exporter": "python",
   "pygments_lexer": "ipython3",
   "version": "3.7.3"
  }
 },
 "nbformat": 4,
 "nbformat_minor": 2
}
